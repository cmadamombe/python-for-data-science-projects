{
 "cells": [
  {
   "cell_type": "markdown",
   "id": "5e60c15c",
   "metadata": {},
   "source": [
    "### New Marketing Copy \n",
    "\n",
    "Ok, time to draft some more copy - the CEO wasn't pleased that we didn't mention a ski shop in our last version.\n",
    "\n",
    "Below are five text messages we need to draw from."
   ]
  },
  {
   "cell_type": "code",
   "execution_count": 19,
   "id": "af7c47ce",
   "metadata": {},
   "outputs": [
    {
     "name": "stdout",
     "output_type": "stream",
     "text": [
      "          Your friend Mark was having a great day  on the mountain\n",
      "Your friend Mark was having a great day  on the mountain\n",
      "Your friend Mark was having a great day  at the ski shop\n",
      "['Your', 'friend', 'Mark', 'was', 'having', 'a', 'great', 'day', 'at', 'the', 'ski', 'shop']\n",
      "The total word count is: 12\n"
     ]
    }
   ],
   "source": [
    "text1 = '          Your friend Mark'\n",
    "text2 = 'was'\n",
    "text3 = 'having'\n",
    "text4 = 'a great day'\n",
    "text5 = 'on the mountain'\n",
    "\n",
    "### Combine the Texts\n",
    "full_text = (text1 + ' ' + text2 + ' ' + text3 + ' ' + text4 + ' ' + ' ' + text5)\n",
    "print(full_text)\n",
    "\n",
    "### Clean it up. Remove the leading spaces and let's make it all lower case for now. \n",
    "fixed_text = full_text.lstrip()\n",
    "print(fixed_text)\n",
    "\n",
    "### A *SLIGHT* Change. Change the portion of the message that reads 'on the mountain' to 'at the ski shop'.\n",
    "new_text = full_text.lstrip().replace('on the mountain', 'at the ski shop')\n",
    "print(new_text)\n",
    "\n",
    "#Count the words\n",
    "splitted_list = full_text.lstrip().replace('on the mountain', 'at the ski shop').split()\n",
    "print(splitted_list)\n",
    "\n",
    "## word_count\n",
    "word_count = len(splitted_list)\n",
    "print('The total word count is: ' + str(word_count))\n",
    "\n"
   ]
  },
  {
   "cell_type": "markdown",
   "id": "daaac727",
   "metadata": {},
   "source": [
    "\n",
    "\n",
    "Look up a string method [here](https://docs.python.org/3/library/stdtypes.html#string-methods) that can help us count the number of words in our messages. We just need to count how many spaces there are and add 1. "
   ]
  },
  {
   "cell_type": "code",
   "execution_count": null,
   "id": "2ce7d4e5",
   "metadata": {},
   "outputs": [],
   "source": []
  }
 ],
 "metadata": {
  "kernelspec": {
   "display_name": "Python 3 (ipykernel)",
   "language": "python",
   "name": "python3"
  },
  "language_info": {
   "codemirror_mode": {
    "name": "ipython",
    "version": 3
   },
   "file_extension": ".py",
   "mimetype": "text/x-python",
   "name": "python",
   "nbconvert_exporter": "python",
   "pygments_lexer": "ipython3",
   "version": "3.9.7"
  }
 },
 "nbformat": 4,
 "nbformat_minor": 5
}
