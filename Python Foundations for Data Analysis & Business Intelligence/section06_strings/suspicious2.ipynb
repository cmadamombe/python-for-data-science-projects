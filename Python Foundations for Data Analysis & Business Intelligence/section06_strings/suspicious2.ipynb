{
 "cells": [
  {
   "cell_type": "markdown",
   "id": "44e91623",
   "metadata": {},
   "source": [
    "### Cryptography\n",
    "\n",
    "\n",
    "\n",
    "\n",
    "Hi there! \n",
    "\n",
    "There are five text message below. I've also convieniently pasted the alphabet for you, which we'll need to crack the code.\n",
    "\n",
    "The length of each message represents the letter in the alphabet for each character in the password. "
   ]
  },
  {
   "cell_type": "code",
   "execution_count": null,
   "id": "dd1db50e",
   "metadata": {},
   "outputs": [],
   "source": []
  },
  {
   "cell_type": "markdown",
   "id": "7aa64328",
   "metadata": {},
   "source": [
    "### Crack the Code\n",
    "\n",
    "In the cell below, combine the characters retrieved using the length function into a single string, and assign that to `password`. Then print the password.\n"
   ]
  },
  {
   "cell_type": "code",
   "execution_count": 4,
   "id": "dcca358e",
   "metadata": {},
   "outputs": [
    {
     "name": "stdout",
     "output_type": "stream",
     "text": [
      "password is: maven\n",
      "12\n"
     ]
    }
   ],
   "source": [
    "alphabet = 'abcdefghijklmnopqrstuvwxyz'\n",
    "message1 = 'Hello World!'\n",
    "message2 = ''\n",
    "message3 = 'It snowed a lot today'\n",
    "message4 = 'eeee'\n",
    "message5 = 'I love snow!!'\n",
    "\n",
    "password = ( alphabet[len(message1)]\n",
    "            + alphabet[len(message2)]\n",
    "            + alphabet[len(message3)]\n",
    "            + alphabet[len(message4)]\n",
    "            + alphabet[len(message5)]\n",
    "            )\n",
    "print('password is: ' + password)\n",
    "print(len(message1))"
   ]
  }
 ],
 "metadata": {
  "kernelspec": {
   "display_name": "Python 3 (ipykernel)",
   "language": "python",
   "name": "python3"
  },
  "language_info": {
   "codemirror_mode": {
    "name": "ipython",
    "version": 3
   },
   "file_extension": ".py",
   "mimetype": "text/x-python",
   "name": "python",
   "nbconvert_exporter": "python",
   "pygments_lexer": "ipython3",
   "version": "3.9.7"
  }
 },
 "nbformat": 4,
 "nbformat_minor": 5
}
