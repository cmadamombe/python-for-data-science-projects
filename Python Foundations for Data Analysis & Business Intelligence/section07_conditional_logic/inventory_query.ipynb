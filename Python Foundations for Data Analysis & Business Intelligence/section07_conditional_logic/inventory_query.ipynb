{
 "cells": [
  {
   "cell_type": "markdown",
   "id": "c6a1d267",
   "metadata": {},
   "source": [
    "### Inventory Message\n",
    "\n",
    "Let's add and out of stock flag to our products. \n",
    " \n",
    "* If inventory is negative or 0, print 'OUT OF STOCK'. \n",
    "* If inventory is greater than 0, and less than or equal to 5, print 'Low Stock'. \n",
    "* If inventory is anything else, print 'In Stock'"
   ]
  },
  {
   "cell_type": "code",
   "execution_count": 6,
   "id": "c8ff8eb8",
   "metadata": {},
   "outputs": [
    {
     "name": "stdout",
     "output_type": "stream",
     "text": [
      "low stock\n"
     ]
    }
   ],
   "source": [
    "inventory = 3\n",
    "if inventory <= 0:\n",
    "    print('out of stock')\n",
    "elif 0 < inventory <= 5:\n",
    "    print('low stock')\n",
    "else:\n",
    "    print('in stock')"
   ]
  }
 ],
 "metadata": {
  "kernelspec": {
   "display_name": "Python 3 (ipykernel)",
   "language": "python",
   "name": "python3"
  },
  "language_info": {
   "codemirror_mode": {
    "name": "ipython",
    "version": 3
   },
   "file_extension": ".py",
   "mimetype": "text/x-python",
   "name": "python",
   "nbconvert_exporter": "python",
   "pygments_lexer": "ipython3",
   "version": "3.9.7"
  }
 },
 "nbformat": 4,
 "nbformat_minor": 5
}
