{
 "cells": [
  {
   "cell_type": "markdown",
   "id": "f306059e",
   "metadata": {},
   "source": [
    "### Inventory Logic\n",
    "\n",
    "I need you to create some logic that returns Boolean values depending on Inventory levels and other factors.\n",
    "\n",
    "Our current inventory level is 5 units."
   ]
  },
  {
   "cell_type": "code",
   "execution_count": 2,
   "id": "092f66b8",
   "metadata": {},
   "outputs": [
    {
     "data": {
      "text/plain": [
       "True"
      ]
     },
     "execution_count": 2,
     "metadata": {},
     "output_type": "execute_result"
    }
   ],
   "source": [
    "inventory_count = 5\n",
    "inventory_count != 0"
   ]
  },
  {
   "cell_type": "markdown",
   "id": "e6093e31",
   "metadata": {},
   "source": [
    "### Do we have any stock?\n",
    "\n",
    "Write logic that returns True if we have 0 units of inventory."
   ]
  },
  {
   "cell_type": "code",
   "execution_count": 1,
   "id": "8da9b9a8",
   "metadata": {},
   "outputs": [
    {
     "ename": "NameError",
     "evalue": "name 'inventory_count' is not defined",
     "output_type": "error",
     "traceback": [
      "\u001b[1;31m---------------------------------------------------------------------------\u001b[0m",
      "\u001b[1;31mNameError\u001b[0m                                 Traceback (most recent call last)",
      "\u001b[1;32m~\\AppData\\Local\\Temp/ipykernel_9968/1602989981.py\u001b[0m in \u001b[0;36m<module>\u001b[1;34m\u001b[0m\n\u001b[1;32m----> 1\u001b[1;33m \u001b[0minventory_count\u001b[0m \u001b[1;33m!=\u001b[0m \u001b[1;36m0\u001b[0m\u001b[1;33m\u001b[0m\u001b[1;33m\u001b[0m\u001b[0m\n\u001b[0m",
      "\u001b[1;31mNameError\u001b[0m: name 'inventory_count' is not defined"
     ]
    }
   ],
   "source": [
    "inventory_count != 0"
   ]
  },
  {
   "cell_type": "markdown",
   "id": "5ad239a7",
   "metadata": {},
   "source": [
    "### Do we have a safe level of inventory?\n",
    "\n",
    "Write logic that returns True if we have more than five units of inventory."
   ]
  },
  {
   "cell_type": "code",
   "execution_count": null,
   "id": "f8f7ff90",
   "metadata": {},
   "outputs": [],
   "source": []
  },
  {
   "cell_type": "markdown",
   "id": "49bbb57f",
   "metadata": {},
   "source": [
    "### Display price if we have more than five units of inventory\n",
    "\n",
    "Now, write logic that displays the price of our product if we have more than five units of inventory, and 0.0 if not.\n",
    "\n",
    "Our current price is 99.99."
   ]
  },
  {
   "cell_type": "code",
   "execution_count": null,
   "id": "7d1fe791",
   "metadata": {},
   "outputs": [],
   "source": [
    "inventory_count = 5"
   ]
  },
  {
   "cell_type": "markdown",
   "id": "a658be31",
   "metadata": {},
   "source": [
    "### Discount Sale Item Flag\n",
    "\n",
    "Now write logic that returns True if inventory is greater than 0 and the product price is less than 100 dollars."
   ]
  },
  {
   "cell_type": "code",
   "execution_count": null,
   "id": "3da81983",
   "metadata": {},
   "outputs": [],
   "source": []
  },
  {
   "cell_type": "markdown",
   "id": "0e16597b",
   "metadata": {},
   "source": [
    "### Special Customer Flag\n",
    "\n",
    "Finally, we need to create logic that returns True if inventory is greater than 0, or the customer's name is Chris AND the product is named 'super_snowboard'."
   ]
  },
  {
   "cell_type": "code",
   "execution_count": null,
   "id": "50fa1724",
   "metadata": {},
   "outputs": [],
   "source": [
    "customer_name = 'Chris'\n",
    "inventory_count = 0\n",
    "product = 'super_snowboard'\n",
    "\n"
   ]
  },
  {
   "cell_type": "code",
   "execution_count": null,
   "id": "8334c450",
   "metadata": {},
   "outputs": [],
   "source": []
  }
 ],
 "metadata": {
  "kernelspec": {
   "display_name": "Python 3 (ipykernel)",
   "language": "python",
   "name": "python3"
  },
  "language_info": {
   "codemirror_mode": {
    "name": "ipython",
    "version": 3
   },
   "file_extension": ".py",
   "mimetype": "text/x-python",
   "name": "python",
   "nbconvert_exporter": "python",
   "pygments_lexer": "ipython3",
   "version": "3.9.7"
  }
 },
 "nbformat": 4,
 "nbformat_minor": 5
}
