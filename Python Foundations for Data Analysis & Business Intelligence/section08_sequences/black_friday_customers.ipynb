{
 "cells": [
  {
   "cell_type": "markdown",
   "id": "94e7c134",
   "metadata": {},
   "source": [
    "### Create a List the customers that made purchases on black friday\n",
    "\n",
    "The customers that made purchases on Black Friday were:\n",
    "\n",
    "C00001, C00003, C00004, C00005 C00006, C00007, C00018, C00010, C00013, C00014, C00015, C00016 and C00029\n",
    "\n",
    "Call your list `customer_list`."
   ]
  },
  {
   "cell_type": "code",
   "execution_count": 29,
   "id": "8cadc495",
   "metadata": {},
   "outputs": [
    {
     "name": "stdout",
     "output_type": "stream",
     "text": [
      "['C00001', 'C00003', 'C00004', 'C00005', 'C00006', 'C00007', 'C00018', 'C00010', 'C00013', 'C00014', 'C00015', 'C00016', 'C00029']\n"
     ]
    }
   ],
   "source": [
    "cuctomer_list = ['C00001', 'C00003', 'C00004', 'C00005', 'C00006', 'C00007', 'C00018', 'C00010', 'C00013', 'C00014', 'C00015', 'C00016', 'C00029']\n",
    "print(cuctomer_list)"
   ]
  },
  {
   "cell_type": "markdown",
   "id": "b5489e0a",
   "metadata": {},
   "source": [
    "### Did C00009 make a purchase?\n",
    "\n",
    "This customer said they made a purchase we're not seeing it in our data. If they did, we need to record the revenue.\n",
    "\n",
    "Write code that returns 99.99 if C00009 is in the list. If not, return 0.0."
   ]
  },
  {
   "cell_type": "code",
   "execution_count": 9,
   "id": "240e3813",
   "metadata": {},
   "outputs": [
    {
     "name": "stdout",
     "output_type": "stream",
     "text": [
      "0.0\n"
     ]
    }
   ],
   "source": [
    "if 'C00009' in cuctomer_list:\n",
    "    print(99.9)\n",
    "else:\n",
    "    print(0.0)\n"
   ]
  },
  {
   "cell_type": "markdown",
   "id": "779dc47b",
   "metadata": {},
   "source": [
    "### Market Research Samples\n",
    "\n",
    "1. Using slicing, create a list containing the fifth and sixth customer in the list called `fifth_sixth`.\n"
   ]
  },
  {
   "cell_type": "code",
   "execution_count": 23,
   "id": "4cb5a882",
   "metadata": {},
   "outputs": [
    {
     "name": "stdout",
     "output_type": "stream",
     "text": [
      "['C00014', 'C00015', 'C00016']\n"
     ]
    }
   ],
   "source": [
    "## start:stop:step size\n",
    "fifth_sixth = cuctomer_list[9:12]\n",
    "print(fifth_sixth )"
   ]
  },
  {
   "cell_type": "markdown",
   "id": "846b6822",
   "metadata": {},
   "source": [
    "2. Create a list called `every_third` that contains every third customer in the list (1st, 4rd, 7th, and so on...)."
   ]
  },
  {
   "cell_type": "code",
   "execution_count": 33,
   "id": "1a4b1c1e",
   "metadata": {},
   "outputs": [
    {
     "data": {
      "text/plain": [
       "['C00001', 'C00005', 'C00018', 'C00014', 'C00029']"
      ]
     },
     "execution_count": 33,
     "metadata": {},
     "output_type": "execute_result"
    }
   ],
   "source": [
    "cuctomer_list = ['C00001', 'C00003', 'C00004', 'C00005', 'C00006', 'C00007', 'C00018', 'C00010', 'C00013', 'C00014', 'C00015', 'C00016', 'C00029']\n",
    "every_third = cuctomer_list[::3]\n",
    "every_third"
   ]
  },
  {
   "cell_type": "markdown",
   "id": "7747931d",
   "metadata": {},
   "source": [
    "3. Finally, using slicing, create a list with the last two customers in our dataset, called `last_two`."
   ]
  },
  {
   "cell_type": "code",
   "execution_count": 31,
   "id": "b7c6c921",
   "metadata": {},
   "outputs": [
    {
     "data": {
      "text/plain": [
       "['C00029']"
      ]
     },
     "execution_count": 31,
     "metadata": {},
     "output_type": "execute_result"
    }
   ],
   "source": [
    "last_two = cuctomer_list[-2:]\n",
    "last_two"
   ]
  },
  {
   "cell_type": "code",
   "execution_count": 35,
   "id": "93346881",
   "metadata": {},
   "outputs": [
    {
     "data": {
      "text/plain": [
       "'f'"
      ]
     },
     "execution_count": 35,
     "metadata": {},
     "output_type": "execute_result"
    }
   ],
   "source": [
    "string = 'I love myself'\n",
    "reverse_string = string[-1]\n",
    "reverse_string"
   ]
  }
 ],
 "metadata": {
  "kernelspec": {
   "display_name": "Python 3 (ipykernel)",
   "language": "python",
   "name": "python3"
  },
  "language_info": {
   "codemirror_mode": {
    "name": "ipython",
    "version": 3
   },
   "file_extension": ".py",
   "mimetype": "text/x-python",
   "name": "python",
   "nbconvert_exporter": "python",
   "pygments_lexer": "ipython3",
   "version": "3.9.7"
  }
 },
 "nbformat": 4,
 "nbformat_minor": 5
}
