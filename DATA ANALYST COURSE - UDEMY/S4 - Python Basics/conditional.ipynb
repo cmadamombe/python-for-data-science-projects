{
 "cells": [
  {
   "cell_type": "markdown",
   "metadata": {},
   "source": [
    "DEMONSTRATION USING PRINT KEYWORD"
   ]
  },
  {
   "cell_type": "code",
   "execution_count": 14,
   "metadata": {},
   "outputs": [
    {
     "name": "stdout",
     "output_type": "stream",
     "text": [
      "Salary is small\n",
      "Decent salary\n",
      "Hooray, you are getting too much salary\n"
     ]
    }
   ],
   "source": [
    "def compare(salary):\n",
    "    if salary < 2000:\n",
    "        print (\"Salary is small\")\n",
    "    elif salary == 2000:\n",
    "        print ('Decent salary')\n",
    "    else:\n",
    "         print ('Hooray, you are getting too much salary')\n",
    "compare(1000)\n",
    "compare(2000)\n",
    "compare(3000)\n"
   ]
  },
  {
   "cell_type": "code",
   "execution_count": 15,
   "metadata": {},
   "outputs": [
    {
     "name": "stdout",
     "output_type": "stream",
     "text": [
      "Salary is small\n",
      "Decent salary\n",
      "Hooray, you are getting too much salary\n"
     ]
    }
   ],
   "source": [
    "def compare(salary):\n",
    "    if salary < 2000:\n",
    "        return \"Salary is small\"\n",
    "    elif salary == 2000:\n",
    "        return 'Decent salary'\n",
    "    else:\n",
    "         return 'Hooray, you are getting too much salary'\n",
    "print(compare(1000))\n",
    "print(compare(2000))\n",
    "print(compare(3000))\n"
   ]
  }
 ],
 "metadata": {
  "interpreter": {
   "hash": "a07a8d24dbcbfda07cea91c4bc653fa111f01e71660fa9170f58dce84ff3e2fe"
  },
  "kernelspec": {
   "display_name": "Python 3.9.7 ('base')",
   "language": "python",
   "name": "python3"
  },
  "language_info": {
   "codemirror_mode": {
    "name": "ipython",
    "version": 3
   },
   "file_extension": ".py",
   "mimetype": "text/x-python",
   "name": "python",
   "nbconvert_exporter": "python",
   "pygments_lexer": "ipython3",
   "version": "3.9.7"
  },
  "orig_nbformat": 4
 },
 "nbformat": 4,
 "nbformat_minor": 2
}
